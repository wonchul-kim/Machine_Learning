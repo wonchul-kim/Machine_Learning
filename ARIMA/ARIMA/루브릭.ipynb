{
 "cells": [
  {
   "cell_type": "markdown",
   "metadata": {},
   "source": [
    "1. 모델 설계 관련\n",
    "    - ARIMA를 정확하게 이해하였는가\n",
    "    - ARIMA에 필요한 파라미터들을 이해하고 데이터를 통해 정할 수 있는가\n",
    "    \n",
    "2. 데이터 처리\n",
    "    - `pandas`라이브러리를 활용하여 데이터를 로드/처리 할 수 있는가\n",
    "    - 학습에 용이하도록 변형이 가능한가\n"
   ]
  },
  {
   "cell_type": "code",
   "execution_count": null,
   "metadata": {},
   "outputs": [],
   "source": []
  }
 ],
 "metadata": {
  "kernelspec": {
   "display_name": "Python 3",
   "language": "python",
   "name": "python3"
  },
  "language_info": {
   "codemirror_mode": {
    "name": "ipython",
    "version": 3
   },
   "file_extension": ".py",
   "mimetype": "text/x-python",
   "name": "python",
   "nbconvert_exporter": "python",
   "pygments_lexer": "ipython3",
   "version": "3.6.8"
  }
 },
 "nbformat": 4,
 "nbformat_minor": 2
}
