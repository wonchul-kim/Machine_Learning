{
 "cells": [
  {
   "cell_type": "markdown",
   "metadata": {},
   "source": [
    "# 미니프로젝트(I): 주사위 확률 구하기(25분)\n",
    "\n",
    "<img src='./img/4.png' width=150>\n"
   ]
  },
  {
   "cell_type": "markdown",
   "metadata": {},
   "source": [
    "### Example\n",
    "\n",
    "위와 같은 정사면체의 주사위에 대해서 각각의 면이 주사위를 한번 던졌을 경우 나올 수 있는 경우의 수에 대한 횟수를 다음과 같이 python으로 정의합니다. "
   ]
  },
  {
   "cell_type": "code",
   "execution_count": 2,
   "metadata": {},
   "outputs": [],
   "source": [
    "# 주사위를 한번 던졌을 경우 \n",
    "nb_1 = 1 # 1을 나타내는 면이 나올 수 있는 횟수\n",
    "nb_2 = 1 # 2을 나타내는 면이 나올 수 있는 횟수\n",
    "nb_3 = 1 # 3을 나타내는 면이 나올 수 있는 횟수\n",
    "nb_4 = 1 # 4을 나타내는 면이 나올 수 있는 횟수\n"
   ]
  },
  {
   "cell_type": "markdown",
   "metadata": {},
   "source": [
    "그리고 각각의 면이 나올 수 있는 확률은 확률의 수식에 의해서 다음과 같이 나타납니다."
   ]
  },
  {
   "cell_type": "code",
   "execution_count": 3,
   "metadata": {},
   "outputs": [
    {
     "name": "stdout",
     "output_type": "stream",
     "text": [
      "0.25 0.25 0.25 0.25\n"
     ]
    }
   ],
   "source": [
    "# 각각의 면이 나올 확률\n",
    "p_1 = nb_1/(nb_1 + nb_2 + nb_3 + nb_4)\n",
    "p_2 = nb_2/(nb_1 + nb_2 + nb_3 + nb_4)\n",
    "p_3 = nb_3/(nb_1 + nb_2 + nb_3 + nb_4)\n",
    "p_4 = nb_4/(nb_1 + nb_2 + nb_3 + nb_4)\n",
    "\n",
    "print(p_1, p_2, p_3, p_4) # 값을 출력"
   ]
  },
  {
   "cell_type": "markdown",
   "metadata": {},
   "source": [
    "이 때, 각각의 확률의 합은 확률의 특징에 의해서 1이 나와야합니다."
   ]
  },
  {
   "cell_type": "code",
   "execution_count": 4,
   "metadata": {},
   "outputs": [
    {
     "name": "stdout",
     "output_type": "stream",
     "text": [
      "1.0\n"
     ]
    }
   ],
   "source": [
    "p_sum = p_1 + p_2 + p_3 + p_4\n",
    "print(p_sum)"
   ]
  },
  {
   "cell_type": "markdown",
   "metadata": {},
   "source": [
    "이는 확률의 합이 1임을 확인할 수도 있으며, 앞서 구한 각각의 확률의 값이 맞는지를 확인하는 절차가 될 수도 있습니다. \n",
    "\n",
    "다음으로는 정사면체의 1, 2, 3, 4 중에서 짝수인 2와 4가 주사위를 한번 던졌을 때 나올 수 있는 확률을 구해보겠습니다. "
   ]
  },
  {
   "cell_type": "code",
   "execution_count": 5,
   "metadata": {},
   "outputs": [
    {
     "name": "stdout",
     "output_type": "stream",
     "text": [
      "0.5\n"
     ]
    }
   ],
   "source": [
    "p_even = p_2 + p_4\n",
    "print(p_even)"
   ]
  },
  {
   "cell_type": "markdown",
   "metadata": {},
   "source": [
    "위와 같이 앞서 구한 확률을 서로 더해주는 것으로서 가능하며, 다음과 같이 확률의 수식을 활용하여 구할 수도 있습니다."
   ]
  },
  {
   "cell_type": "code",
   "execution_count": 6,
   "metadata": {},
   "outputs": [
    {
     "name": "stdout",
     "output_type": "stream",
     "text": [
      "0.5\n"
     ]
    }
   ],
   "source": [
    "p_even = (nb_2 + nb_4)/(nb_1 + nb_2 + nb_3 + nb_4)\n",
    "print(p_even)"
   ]
  },
  {
   "cell_type": "markdown",
   "metadata": {},
   "source": [
    "이번에는 반대로 홀수에 대해서 알아보겠습니다. "
   ]
  },
  {
   "cell_type": "code",
   "execution_count": 7,
   "metadata": {},
   "outputs": [
    {
     "name": "stdout",
     "output_type": "stream",
     "text": [
      "0.5\n"
     ]
    }
   ],
   "source": [
    "p_odd = p_1 + p_3\n",
    "print(p_odd)"
   ]
  },
  {
   "cell_type": "markdown",
   "metadata": {},
   "source": [
    "마찬가지로 앞서 구한 각각의 확률을 활용할 수도 있으며 다음과 같이 확률의 수식을 활용하여 구할 수도 있습니다."
   ]
  },
  {
   "cell_type": "code",
   "execution_count": 8,
   "metadata": {},
   "outputs": [
    {
     "name": "stdout",
     "output_type": "stream",
     "text": [
      "0.5\n"
     ]
    }
   ],
   "source": [
    "p_odd = (nb_1 + nb_3)/(nb_1 + nb_2 + nb_3 + nb_4)\n",
    "print(p_odd)"
   ]
  },
  {
   "cell_type": "markdown",
   "metadata": {},
   "source": [
    "그리고 확률의 합이 1이라는 확률의 특징을 이용할 수도 있습니다. 위의 주사위의 경우에는 홀수와 짝수 외에는 나올 수 없으므로 짝수가 아니면 홀수입니다. 따라서 다음과 같습니다. "
   ]
  },
  {
   "cell_type": "code",
   "execution_count": 9,
   "metadata": {},
   "outputs": [
    {
     "name": "stdout",
     "output_type": "stream",
     "text": [
      "0.5\n"
     ]
    }
   ],
   "source": [
    "p_odd = 1 - p_even\n",
    "print(p_odd)"
   ]
  },
  {
   "cell_type": "markdown",
   "metadata": {},
   "source": [
    "### Problem\n",
    "\n",
    "위의 내용을 바탕으로 다음의 문제를 풀어봅시다.\n",
    "<img src='./img/8.png' width=150>\n",
    "<div style=\"text-align: right\"> (출처: http://m.aican.co.kr/product/detail.html?product_no=9105) </div>\n",
    "\n",
    "\n",
    "(1-1) 위와 같이 정팔면체 모형의 주사위가 있습니다. 이때, 주사위를 한번 던졌을 경우 각각의 면이 나올 확률을 정의하시오\n",
    "\n",
    "(1-2) 주사위를 던졌을 경우에 대해 나올 수 있는 모든 확률을 합이 1임을 확인하시오\n",
    "\n",
    "(2) 그렇다면 주사위를 한번 던졌을 때, 짝수가 나올 확률은 무엇입니까?\n",
    "\n",
    "(3) 마찬가지로 홀수가 나올 확률은 무엇입니까?"
   ]
  },
  {
   "cell_type": "code",
   "execution_count": 10,
   "metadata": {},
   "outputs": [],
   "source": [
    "# 주사위를 한번 던졌을 경우 \n",
    "nb_1 = 1 # 1을 나타내는 면이 나올 수 있는 횟수\n",
    "nb_2 = 1 # 2을 나타내는 면이 나올 수 있는 횟수\n",
    "nb_3 = 1 # 3을 나타내는 면이 나올 수 있는 횟수\n",
    "nb_4 = 1 # 4을 나타내는 면이 나올 수 있는 횟수\n",
    "nb_5 = 1 # 5을 나타내는 면이 나올 수 있는 횟수\n",
    "nb_6 = 1 # 6을 나타내는 면이 나올 수 있는 횟수\n",
    "nb_7 = 1 # 7을 나타내는 면이 나올 수 있는 횟수\n",
    "nb_8 = 1 # 8을 나타내는 면이 나올 수 있는 횟수\n",
    "\n",
    "# 이곳부터 코드를 적어주세요.......!!!"
   ]
  },
  {
   "cell_type": "markdown",
   "metadata": {},
   "source": [
    "# 미니 프로젝트(II) (20분)\n",
    "\n",
    "이번 시간에는 앞서 배운 확률론들을 바탕으로 하여 다음의 문제를 풀어보도록 하겠습니다. \n",
    "\n",
    "### Example\n",
    "\n",
    "**[문제 1]** <br/>\n",
    "\n",
    "모두 동일한 확률을 6면을 가지는 두 개의 주사위가 모두 1이 나오는 사건을 구하시오."
   ]
  },
  {
   "cell_type": "markdown",
   "metadata": {},
   "source": [
    "먼저, 두 개의 주사위는 모두 동일한 확률을 가지는 6면이므로 한 번의 던지는 시행으로 인해서 나올 수 있는 확률은 다음과 같습니다. \n",
    "\n",
    "$$ P(A) = \\frac{1}{6}$$\n",
    "\n",
    "이 때, A는 주사위를 한 번 던지는 사건이라고 하겠습니다. 그리고 이에 대해서 두 주사위 모두가 1이라는 특정 숫자가 나와야 하므로, joint probability에 의해서 독립적인 두 사건에 대한 것이므로 다음과 같이 계산이 가능합니다. \n",
    "\n",
    "$$ P(B) = \\frac{1}{6} \\times \\frac{1}{6} = \\frac{1}{36}$$\n",
    "\n",
    "B는 두 주사위가 모두 1로 나올 사건을 의미하며 답은 위와 같습니다. "
   ]
  },
  {
   "cell_type": "markdown",
   "metadata": {},
   "source": [
    "**[문제 2]**<br/>\n",
    "\n",
    "모두 동일한 확률을 가지는 두 개의 주사위가 있습니다. 이 때, 두 주사위가 모두 같은 숫자가 나올 경우, 그 때의 숫자가 모두 1일 확률은 어떻게 되나요?\n"
   ]
  },
  {
   "cell_type": "markdown",
   "metadata": {},
   "source": [
    "이는 앞선 [문제 1]과 마찬가지로 주사위를 한 번 던지는 행위에 대한 확률은 $\\frac{1}{6}$이라는 것을 알 수 있습니다. 그리고 문제에서 제시하였듯이 정리를 하면, 두 확률이 필요합니다. \n",
    "\n",
    "* 두 주사위가 모두 1이 나올 확률: A\n",
    "* 두 주사위가 모두 같은 숫자가 나올 확률: B\n",
    "\n",
    "이에 대해서 각각의 확률은 36가의 경우의 수 중에서 1가지 경우이므로 $P(A) = \\frac{1}{36}$입니다. 그리고 B에 대해서는 6가지 경우의 수가 존재하므로 $P(B) = \\frac{1}{6}$입니다. 이 때, A와 B의 교집합의 확률은 다음과 같습니다.\n",
    "\n",
    "$$ P(A \\cap B) = P(A)$$\n",
    "\n",
    "이는 두 개의 주사위가 모두 1이 나오는 경우는 두 개의 주사위가 같은 숫자가 나오는 것의 특수한 경우이기 때문입니다. \n",
    "\n",
    "따라서, 우리가 구하고자 하는 확률은 $P(A|B)$로서 다음과 같이 구할 수 있습니다. \n",
    "\n",
    "$$ P(A|B) = \\frac{P(A \\cap B)}{P(B)} = \\frac{P(A)}{P(B)} = \\frac{\\frac{1}{36}}{\\frac{1}{6}} = \\frac{1}{6}$$"
   ]
  },
  {
   "cell_type": "markdown",
   "metadata": {},
   "source": [
    "### Problem\n",
    "\n",
    "**[문제 1]** <br/>\n",
    "\n",
    "모두 동일한 확률을 8면을 가지는 두 개의 주사위가 모두 1이 나오는 사건을 구하시오."
   ]
  },
  {
   "cell_type": "markdown",
   "metadata": {},
   "source": [
    "**[문제 2]**<br/>\n",
    "\n",
    "모두 동일한 확률을 가지는 8면의 두 개의 주사위가 있습니다. 이 때, 두 주사위가 모두 같은 숫자가 나올 경우, 그 때의 숫자가 모두 1일 확률은 어떻게 되나요?"
   ]
  },
  {
   "cell_type": "markdown",
   "metadata": {},
   "source": [
    "# 미니 프로젝트(III) (60분)\n",
    "\n",
    "\n",
    "### Example\n",
    "\n",
    "어떤 사람이 병원을 가서 당뇨수치를 측정하였는데 이상하게도 여러 번을 측정하였을 때, 기기의 오차로 인해서 서로 다른 값이 나왔습니다. 하지만, 진찰을 위해서는 정확한 수치가 필요했고 다음과 같이 당뇨수치의 정확한 측정을 위해 다음과 같이 MLE를 활용할 수 있습니다. \n",
    "\n",
    "먼저, 정규분포가 사람의 당뇨수치를 나타낼 수 있는 확률분포라 가정하겠습니다. \n",
    "\n",
    "$$\\frac{1}{\\sqrt{2\\pi\\sigma}}*e^{-\\frac{(x - \\mu)^2}{2\\sigma^2}}$$\n",
    "\n",
    "그리고 이 사람의 당뇨수치는 다음과 같이 5번을 측정하였습니다. \n",
    "\n",
    "$$ 당뇨수치 = \\{111, 105, 108, 115, 101\\} $$\n",
    "\n",
    "이 때, 단순히 직관적으로 예측해본다면, 이 사람의 당뇨수치는 평균으로 다음과 같이 구할 수도 있습니다.\n"
   ]
  },
  {
   "cell_type": "code",
   "execution_count": 114,
   "metadata": {},
   "outputs": [
    {
     "name": "stdout",
     "output_type": "stream",
     "text": [
      "108.0\n"
     ]
    }
   ],
   "source": [
    "import numpy as np\n",
    "\n",
    "a = [111, 105, 108, 115, 101]\n",
    "print(np.mean(a))"
   ]
  },
  {
   "cell_type": "markdown",
   "metadata": {},
   "source": [
    "하지만, 이는 단순히 한사람의 측정에 대한 평균값일 뿐, 일반적인 사람에게서 측정되는 당뇨수치, 즉 확률분포를 반영하지 않았습니다. 따라서, 앞선 설명으로부터 문제를 풀기 위해서는 각각이 111, 105, 108, 115, 101으로 나올 Likelihood는 각각의 Likelihood를 모두 곱한 값이어야 합니다. 그리고 그 결과값을 최대로 하는 $\\mu$의 MLE를 계산하는 것입니다. 이를 위해 다음과 같이 진행할 수 있습니다.\n",
    "\n",
    "- 당뇨수치에 대한 모집단에 대한 초기 파라미터로서 평균을 108($\\mu$), 분산을 5($\\sigma^2$)라고 하겠습니다. \n",
    "> 사실 초기수치이며, 결국에는 SGD를 활용하여 iteration을 통해서 값을 구할 것이기 때문에 매우 이상한 초기값으로 하지 않는 이상 크게 영향은 없습니다. \n",
    "\n",
    "\n",
    "- Likelihood가 최대가 되는 estimator($\\mu$)를 구하는 것이 MLE로서 이는 Naive하게 Stochastic Gradient Descent 방식으로 구합니다."
   ]
  },
  {
   "cell_type": "markdown",
   "metadata": {},
   "source": [
    "MLE를 구하는 과정을 하나의 class로서 파이선 코드로 구성하여 다음과 같이 설계하여 보도록 하겠습니다. <br/>\n",
    "먼저, 필요한 라이브러리를 모두 import합니다."
   ]
  },
  {
   "cell_type": "code",
   "execution_count": 115,
   "metadata": {},
   "outputs": [],
   "source": [
    "import numpy as np\n",
    "import math"
   ]
  },
  {
   "cell_type": "markdown",
   "metadata": {},
   "source": [
    "앞서 말했듯이 사람의 키를 나타내는 분포는 정규분포이므로 이를 likelihood function으로 하여금 다음과 같이 정의합니다."
   ]
  },
  {
   "cell_type": "code",
   "execution_count": 116,
   "metadata": {},
   "outputs": [],
   "source": [
    "def likelihood(x, M, std):\n",
    "    return (1 / math.sqrt(2*math.pi) * math.pow(std, 2)) * np.exp(-(np.power(x - M, 2) / (2*math.pow(std, 2))))"
   ]
  },
  {
   "cell_type": "markdown",
   "metadata": {},
   "source": [
    "앞서 설명한 것과 마찬가지로, iteration을 통해서 SGD를 통해서 경사면을 따라 내려가며 최소값을 찾습니다."
   ]
  },
  {
   "cell_type": "code",
   "execution_count": 117,
   "metadata": {},
   "outputs": [],
   "source": [
    "def MLE(samples, mean, std, learning_rate=0.1, epochs=30, verbose=True):\n",
    "    # init M\n",
    "    mean_hat = np.random.normal(mean, std, 1)\n",
    "\n",
    "    # train while epochs\n",
    "    for epoch in range(epochs):\n",
    "        likelihood_ = np.prod(likelihood(samples, mean, std))\n",
    "        prediction = np.prod(likelihood(samples, mean_hat, std))\n",
    "        \n",
    "        cost = math.sqrt(likelihood_ - prediction)\n",
    "        \n",
    "        gradient = np.sum(np.exp(-(np.power(samples - mean_hat, 2) / (2*math.pow(std, 2)))))\n",
    "        if mean > mean_hat:\n",
    "            mean_hat += learning_rate * gradient\n",
    "        else:\n",
    "            mean_hat -= learning_rate * gradient\n",
    "            \n",
    "        # print status\n",
    "        print(\"epoch({}): cost = {}\".format(epoch + 1, cost))\n",
    "        \n",
    "    return mean_hat\n"
   ]
  },
  {
   "cell_type": "code",
   "execution_count": 118,
   "metadata": {
    "scrolled": true
   },
   "outputs": [
    {
     "name": "stdout",
     "output_type": "stream",
     "text": [
      "epoch(1_: cost = 306.3742841070841\n",
      "epoch(2_: cost = 306.37253485774363\n",
      "epoch(3_: cost = 306.3704594137915\n",
      "epoch(4_: cost = 306.3679882195499\n",
      "epoch(5_: cost = 306.36503502297785\n",
      "epoch(6_: cost = 306.3614924210306\n",
      "epoch(7_: cost = 306.35722609826473\n",
      "epoch(8_: cost = 306.35206734127445\n",
      "epoch(9_: cost = 306.34580326767787\n",
      "epoch(10_: cost = 306.3381640114711\n",
      "epoch(11_: cost = 306.3288058359549\n",
      "epoch(12_: cost = 306.3172887719519\n",
      "epoch(13_: cost = 306.3030468615142\n",
      "epoch(14_: cost = 306.2853483675029\n",
      "epoch(15_: cost = 306.26324230473784\n",
      "epoch(16_: cost = 306.2354862417809\n",
      "epoch(17_: cost = 306.2004483479119\n",
      "epoch(18_: cost = 306.15597388288376\n",
      "epoch(19_: cost = 306.09920241725854\n",
      "epoch(20_: cost = 306.0263165666161\n",
      "epoch(21_: cost = 305.93219528471076\n",
      "epoch(22_: cost = 305.8099339191031\n",
      "epoch(23_: cost = 305.6501781332251\n",
      "epoch(24_: cost = 305.4401979656673\n",
      "epoch(25_: cost = 305.16259996048655\n",
      "epoch(26_: cost = 304.7935375727549\n",
      "epoch(27_: cost = 304.30023141539107\n",
      "epoch(28_: cost = 303.63755131971357\n",
      "epoch(29_: cost = 302.7433452293446\n",
      "epoch(30_: cost = 301.5321368172501\n",
      "[70.63098047]\n"
     ]
    }
   ],
   "source": [
    "# MLE를 위한 sample data\n",
    "samples = np.array([64, 64.5, 65, 65.5, 66])\n",
    "\n",
    "# 확률분포에 대한 초기 파라미터 값\n",
    "mean = np.array([65.0])\n",
    "std = 5\n",
    "\n",
    "result = MLE(samples, mean, std, learning_rate=0.1, epochs=30)\n",
    "print(result)"
   ]
  },
  {
   "cell_type": "markdown",
   "metadata": {},
   "source": [
    "따라서, $\\mu$의 MLE를 구하는 과정은 회귀분석에서 Gradient Descent로 파라미터를 추정하는 것과 동일하다는 것을 알 수 있습니다. "
   ]
  },
  {
   "cell_type": "markdown",
   "metadata": {},
   "source": [
    "\n",
    "### Problem\n",
    "\n",
    "어떤 사람이 병원을 가서 키를 측정하였는데 이상하게도 여러 번을 측정하였을 때, 기기의 오차로 인해서 서로 다른 값이 나왔습니다. 하지만, 진찰을 위해서는 정확한 수치가 필요했고 다음과 같이 키의 정확한 측정을 위해 다음과 같이 MLE를 활용할 수 있습니다. \n",
    "\n",
    "먼저, 정규분포가 사람의 당뇨수치를 나타낼 수 있는 확률분포라 가정하겠습니다. \n",
    "\n",
    "$$\\frac{1}{\\sqrt{2\\pi\\sigma}}*e^{-\\frac{(x - \\mu)^2}{2\\sigma^2}}$$\n",
    "\n",
    "그리고 이 사람의 키는 다음과 같이 8번을 측정하였습니다. \n",
    "\n",
    "$$ 당뇨수치 = \\{180, 178, 182, 177.5, 181.5, 180.7, 178.5, 180\\} $$\n",
    "\n",
    "이에 대한 가능성이 가장 큰 키의 수치를 구하십시오."
   ]
  },
  {
   "cell_type": "code",
   "execution_count": null,
   "metadata": {},
   "outputs": [],
   "source": []
  }
 ],
 "metadata": {
  "kernelspec": {
   "display_name": "Python 3",
   "language": "python",
   "name": "python3"
  },
  "language_info": {
   "codemirror_mode": {
    "name": "ipython",
    "version": 3
   },
   "file_extension": ".py",
   "mimetype": "text/x-python",
   "name": "python",
   "nbconvert_exporter": "python",
   "pygments_lexer": "ipython3",
   "version": "3.6.8"
  }
 },
 "nbformat": 4,
 "nbformat_minor": 4
}
