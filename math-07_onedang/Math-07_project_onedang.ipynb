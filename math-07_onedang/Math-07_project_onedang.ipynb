{
 "cells": [
  {
   "cell_type": "markdown",
   "metadata": {},
   "source": [
    "# 미니 프로젝트 (60분)"
   ]
  },
  {
   "cell_type": "markdown",
   "metadata": {},
   "source": [
    "### Example"
   ]
  },
  {
   "cell_type": "code",
   "execution_count": 41,
   "metadata": {},
   "outputs": [
    {
     "data": {
      "text/plain": [
       "0.4207830223197951"
      ]
     },
     "execution_count": 41,
     "metadata": {},
     "output_type": "execute_result"
    }
   ],
   "source": [
    "0.69*0.05/0.08199"
   ]
  },
  {
   "cell_type": "markdown",
   "metadata": {},
   "source": [
    "이번에는 앞서 배운 bayes theorem을 활용하여 다음과 같은 문제를 풀어보도록 하겠습니다. \n",
    "\n",
    "\n",
    "**[문제 1]** <br/>\n",
    "어떠 사람이 질문에 대해서 답을 할 때, 거짓말을 했는지 안했는지에 대해서 검사를 받고 있습니다. 거짓말 탐지기에 의해서 양성이 나오면 거짓말을 했다는 것을 의미할 경우 실제로 그 사람이 거짓말을 할 확률을 구하는 것이 문제입니다. \n",
    "\n",
    "이에 대한 문제에 자세한 가정은 다음과 같습니다. 테스트를 받은 사람들의 대부분인 95%의 확률로 사실을 말하고, 거짓을 할 확률은 5%입니다. 그리고 어떤 사람이 거짓말을 했을 때, 실제로 거짓으로 탐지를 하는 확률인 $P(positive|lying) = 69%$이고, 탐지기에서 그 사람이 거짓말을 하지 않고 있다고 하였고, 이 결과가 사실일 확률은 $P(not positive|not lying) = 95%$입니다.\n",
    "\n",
    "먼저, 위의 문제에 대해서 우리가 구하고자 하는 조건부 확률에 대한 베이즈 이론을 나타내면 다음과 같습니다. \n",
    "\n",
    "$$P(lying|positive) = \\frac{P(positive|lying) \\times P(lying)}{P(positive)}$$\n",
    "\n",
    "\n",
    "$$ = \\frac{0.69 \\times 0.01}{P(positive)} $$\n",
    "\n",
    "하지만, 우리는 $P(positive)$를 알지 못합니다. 그렇기 때문에 앞서 배운 베이즈 이론이 중요하게 작용합니다. \n",
    "\n",
    "$$P(positive) = P(positive|lying) \\times P(lying) + P(positive|not lying) \\times P(not lying)$$\n",
    "\n",
    "\n",
    "$$ = 0.69 \\times 0.05 + P(positive|not lying) \\times (1 - 0.05)$$\n",
    "\n",
    "\n",
    "$$ = 0.69 \\times 0.05 + P(positive|not lying) \\times 0.95$$\n",
    "\n",
    "이 때, 우리는 $P(postivie|not lying)$을 알지 못하므로 이를 구하여야합니다.\n",
    "\n",
    "\n",
    "$$P(positive|not lying) = 1 - P(not postivie|not lying)$$\n",
    "\n",
    "\n",
    "$$ = 1 - 0.95 = 0.05$$\n",
    "\n",
    "따라서, 우리는 $P(postivie)$를 다음과 같이 구할 수 있습니다.\n",
    "\n",
    "$$P(postivie) = 0.69 \\times 0.05 + 0.05 \\times 0.95$$\n",
    "\n",
    "\n",
    "$$ = 0.08199 $$\n",
    "\n",
    "그러므로 결과적으로 앞서 세운 bayes theorem에 의해서 다음과 같이 해결할 수 있습니다. \n",
    "\n",
    "$$P(lying|positive) = \\frac{0.69 \\times 0.05}{0.05440}$$\n",
    "\n",
    "\n",
    "$$ = \\frac{0.0344}{0.08199} = 0.4207830223197951$$\n",
    "\n",
    "이번에는 위의 문제를 python 코드를 활용하여 풀어보도록 하겠습니다. "
   ]
  },
  {
   "cell_type": "code",
   "execution_count": 44,
   "metadata": {},
   "outputs": [],
   "source": [
    "# P(A), P(B|A), P(not B|not A)가 주어질 떄, P(A|B) 계산하기\n",
    "def bayes(p_a, p_b_given_a, p_not_b_given_not_a):\n",
    "    '''\n",
    "        - Args: P(A), P(B|A), P(not B|not A)\n",
    "        - return: P(A|B)\n",
    "    '''\n",
    "    # P(not A)\n",
    "    not_a = 1 - p_a\n",
    "    # P(B|not A)\n",
    "    p_b_given_not_a = 1 - p_not_b_given_not_a\n",
    "    # P(B)\n",
    "    p_b = p_b_given_a * p_a + p_b_given_not_a * not_a\n",
    "    # P(A|B)\n",
    "    p_a_given_b = (p_b_given_a * p_a) / p_b\n",
    "    \n",
    "    return p_a_given_b"
   ]
  },
  {
   "cell_type": "code",
   "execution_count": 45,
   "metadata": {},
   "outputs": [
    {
     "name": "stdout",
     "output_type": "stream",
     "text": [
      "P(A|B) = 42.07%\n"
     ]
    }
   ],
   "source": [
    "# P(A), base rate\n",
    "p_a = 0.05\n",
    "# P(B|A)\n",
    "p_b_given_a = 0.69\n",
    "# P(not B| not A)\n",
    "p_not_b_given_not_a = 0.95\n",
    "# calculate P(A|B)\n",
    "res = bayes(p_a, p_b_given_a, p_not_b_given_not_a)\n",
    "\n",
    "print('P(A|B) = {:.2f}%'.format(res * 100))"
   ]
  },
  {
   "cell_type": "markdown",
   "metadata": {},
   "source": [
    "**[문제 2]**<br/>\n",
    "\n",
    "$X$를 continuous random variable로서 다음과 같은 PDF라고 하겠습니다. \n",
    "\n",
    "$$ X =  \\begin{cases}\n",
    "  2x & \\text{if $0 \\leq x \\leq 1$} \\\\\n",
    "  0 & \\text{otherwise}\n",
    "\\end{cases}\n",
    "$$\n",
    "\n",
    "그리고 $ Y|X = x ~ Geometric(x)$으로 다음과 같은 확률분포를 따릅니다.\n",
    "\n",
    "$$ P_{Y|X} (y|x)= x(1 - x)^{y-1}, for y = 1, 2, ... $$\n",
    "\n",
    "이 때, MAP를 활용하여 $Y = 3$으로 주어졌을 때, X를 구하시오."
   ]
  },
  {
   "cell_type": "markdown",
   "metadata": {},
   "source": [
    "먼저, 주어진 $Y = 3$이라는 조건에 의해서 다음과 같이 확률분포 값을 구할 수 있습니다.\n",
    "\n",
    "$$ P_{Y|X} (3|x) = x(1 - x)^{2} $$\n",
    "\n",
    "그리고 우리는 $x \\in [0, 1]$의 조건하에서 최대가 되는 $x$를 찾는 것이므로, 다음과 같습니다. \n",
    "\n",
    "$$ P_{Y|X} f_{X}(x) = x(1 - x)^{2} \\times 2x$$\n",
    "$$ = 2x^2 (1 - x)^2$$\n",
    "\n",
    "이를 $x$에 대해서 미분하면 다음과 같습니다. \n",
    "\n",
    "$$\\frac{d}{dx}{x^2(1 - x)^2} = 2x(1 - x)^2 - 2(1 - x)x^2 = 0$$\n",
    "\n",
    "이 방정식을 계산하여 $x$를 구하면 다음과 같이 MAP를 통한 $x$ 값이 구해집니다.\n",
    "\n",
    "$$\\hat{x}_{MAP} = \\frac{1}{2} $$\n",
    "\n"
   ]
  },
  {
   "cell_type": "markdown",
   "metadata": {},
   "source": [
    "### Problem"
   ]
  },
  {
   "cell_type": "markdown",
   "metadata": {},
   "source": [
    "**[문제 1]** <br/>\n",
    "\n",
    "어떠 사람이 질문에 대해서 답을 할 때, 거짓말을 했는지 안했는지에 대해서 검사를 받고 있습니다. 거짓말 탐지기에 의해서 양성이 나오면 거짓말을 했다는 것을 의미할 경우 실제로 그 사람이 거짓말을 할 확률을 구하는 것이 문제입니다. \n",
    "\n",
    "이에 대한 문제에 자세한 가정은 다음과 같습니다. 테스트를 받은 사람들의 대부분인 98%의 확률로 사실을 말하고, 거짓을 할 확률은 2%입니다. 그리고 어떤 사람이 거짓말을 했을 때, 실제로 거짓으로 탐지를 하는 확률인 $P(positive|lying) = 72%$이고, 탐지기에서 그 사람이 거짓말을 하지 않고 있다고 하였고, 이 결과가 사실일 확률은 $P(not positive|not lying) = 97%$입니다.\n",
    "\n",
    "**[문제 1-1]** <br/>\n",
    "위의 [문제1]에 대해서 수식적으로 풀어보십시오\n",
    "\n",
    "**[문제 1-2]** <br/>\n",
    "위의 [문제1]에 대해서 코드를 작성하여 풀어보고, [문제1-1]과 결과를 비교해보시오\n",
    "\n"
   ]
  },
  {
   "cell_type": "markdown",
   "metadata": {},
   "source": [
    "**[문제 2]**<br/>\n",
    "\n",
    "$X$를 continuous random variable로서 다음과 같은 PDF라고 하겠습니다. \n",
    "\n",
    "$$ X =  \\begin{cases}\n",
    "  2x & \\text{if $0 \\leq x \\leq 1$} \\\\\n",
    "  0 & \\text{otherwise}\n",
    "\\end{cases}\n",
    "$$\n",
    "\n",
    "그리고 $ Y|X = x ~ Geometric(x)$으로 다음과 같은 확률분포를 따릅니다.\n",
    "\n",
    "$$ P_{Y|X} (y|x)= x(1 - x)^{y-1}, for y = 1, 2, ... $$\n",
    "\n",
    "이 때, MAP를 활용하여 $Y = 5$으로 주어졌을 때, X를 구하시오.\n"
   ]
  },
  {
   "cell_type": "code",
   "execution_count": null,
   "metadata": {},
   "outputs": [],
   "source": []
  }
 ],
 "metadata": {
  "kernelspec": {
   "display_name": "Python 3",
   "language": "python",
   "name": "python3"
  },
  "language_info": {
   "codemirror_mode": {
    "name": "ipython",
    "version": 3
   },
   "file_extension": ".py",
   "mimetype": "text/x-python",
   "name": "python",
   "nbconvert_exporter": "python",
   "pygments_lexer": "ipython3",
   "version": "3.6.8"
  }
 },
 "nbformat": 4,
 "nbformat_minor": 2
}
