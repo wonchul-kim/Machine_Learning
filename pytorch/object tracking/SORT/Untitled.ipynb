{
 "cells": [
  {
   "cell_type": "markdown",
   "metadata": {},
   "source": [
    "[SORT](https://arxiv.org/pdf/1602.00763.pdf) (Simple Online and Realtime Tracking) proposes using a Kalman filter to predict the track of previously identified objects, and match them with new detections.\n",
    "\n",
    "* code: https://github.com/abewley/sort"
   ]
  }
 ],
 "metadata": {
  "kernelspec": {
   "display_name": "Python 3",
   "language": "python",
   "name": "python3"
  },
  "language_info": {
   "codemirror_mode": {
    "name": "ipython",
    "version": 3
   },
   "file_extension": ".py",
   "mimetype": "text/x-python",
   "name": "python",
   "nbconvert_exporter": "python",
   "pygments_lexer": "ipython3",
   "version": "3.7.7"
  }
 },
 "nbformat": 4,
 "nbformat_minor": 4
}
