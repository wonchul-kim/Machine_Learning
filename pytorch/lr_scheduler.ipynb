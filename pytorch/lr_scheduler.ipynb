{
 "cells": [
  {
   "cell_type": "markdown",
   "metadata": {},
   "source": [
    "https://www.kaggle.com/isbhargav/guide-to-pytorch-learning-rate-scheduling"
   ]
  },
  {
   "cell_type": "code",
   "execution_count": 17,
   "metadata": {},
   "outputs": [],
   "source": [
    "import torch, torchvision\n",
    "import matplotlib.pyplot as plt"
   ]
  },
  {
   "cell_type": "code",
   "execution_count": 85,
   "metadata": {},
   "outputs": [],
   "source": [
    "model = torchvision.models.resnet50()\n",
    "optimizer = torch.optim.Adam(model.parameters(), lr = 1e-2)"
   ]
  },
  {
   "cell_type": "code",
   "execution_count": 86,
   "metadata": {},
   "outputs": [],
   "source": [
    "scheduler_steplr = torch.optim.lr_scheduler.StepLR(optimizer, step_size=1, gamma=0.1)"
   ]
  },
  {
   "cell_type": "code",
   "execution_count": 87,
   "metadata": {},
   "outputs": [
    {
     "name": "stdout",
     "output_type": "stream",
     "text": [
      "5 0.0001\n",
      "10 1e-05\n",
      "15 1.0000000000000002e-06\n",
      "20 1.0000000000000002e-07\n",
      "25 1.0000000000000004e-08\n"
     ]
    }
   ],
   "source": [
    "num_epochs = 30\n",
    "num_steps = 50\n",
    "\n",
    "lr_list = []\n",
    "for epoch in range(1, num_epochs):\n",
    "    for step in range(1, num_steps):\n",
    "        pass\n",
    "    optimizer.step()\n",
    "    lr_list.append(optimizer.param_groups[0]['lr'])\n",
    "    if epoch%5 == 0:\n",
    "        scheduler_steplr.step()\n",
    "        print(epoch, scheduler_steplr.get_lr()[0])"
   ]
  },
  {
   "cell_type": "code",
   "execution_count": 88,
   "metadata": {},
   "outputs": [
    {
     "data": {
      "text/plain": [
       "Text(0.5, 0, 'epoch')"
      ]
     },
     "execution_count": 88,
     "metadata": {},
     "output_type": "execute_result"
    },
    {
     "data": {
      "image/png": "[encoded data removed]",
      "text/plain": [
       "<Figure size 432x288 with 1 Axes>"
      ]
     },
     "metadata": {
      "needs_background": "light"
     },
     "output_type": "display_data"
    }
   ],
   "source": [
    "plt.plot(lr_list)\n",
    "plt.xlabel('epoch')"
   ]
  },
  {
   "cell_type": "code",
   "execution_count": 89,
   "metadata": {},
   "outputs": [],
   "source": [
    "optimizer = torch.optim.Adam(model.parameters(), lr = 1e-2)"
   ]
  },
  {
   "cell_type": "code",
   "execution_count": 90,
   "metadata": {},
   "outputs": [],
   "source": [
    "scheduler_multisteplr = torch.optim.lr_scheduler.MultiStepLR(optimizer, \n",
    "                                                 milestones=[5, 10, 15, 20], gamma=0.1)\n"
   ]
  },
  {
   "cell_type": "code",
   "execution_count": 91,
   "metadata": {},
   "outputs": [],
   "source": [
    "num_epochs = 30\n",
    "num_steps = 50\n",
    "\n",
    "lr_list = []\n",
    "for epoch in range(1, num_epochs):\n",
    "    for step in range(1, num_steps):\n",
    "        pass\n",
    "    optimizer.step()\n",
    "    lr_list.append(optimizer.param_groups[0]['lr'])\n",
    "    scheduler_multisteplr.step()\n"
   ]
  },
  {
   "cell_type": "code",
   "execution_count": 92,
   "metadata": {},
   "outputs": [
    {
     "data": {
      "text/plain": [
       "Text(0.5, 0, 'epoch')"
      ]
     },
     "execution_count": 92,
     "metadata": {},
     "output_type": "execute_result"
    },
    {
     "data": {
      "image/png": "[encoded data removed]",
      "text/plain": [
       "<Figure size 432x288 with 1 Axes>"
      ]
     },
     "metadata": {
      "needs_background": "light"
     },
     "output_type": "display_data"
    }
   ],
   "source": [
    "plt.plot(lr_list)\n",
    "plt.xlabel('epoch')"
   ]
  },
  {
   "cell_type": "code",
   "execution_count": 84,
   "metadata": {},
   "outputs": [
    {
     "data": {
      "text/plain": [
       "[0.01,\n",
       " 0.01,\n",
       " 0.01,\n",
       " 0.01,\n",
       " 0.01,\n",
       " 0.001,\n",
       " 0.001,\n",
       " 0.001,\n",
       " 0.001,\n",
       " 0.001,\n",
       " 0.0001,\n",
       " 0.0001,\n",
       " 0.0001,\n",
       " 0.0001,\n",
       " 0.0001,\n",
       " 1e-05,\n",
       " 1e-05,\n",
       " 1e-05,\n",
       " 1e-05,\n",
       " 1e-05,\n",
       " 1.0000000000000002e-06,\n",
       " 1.0000000000000002e-06,\n",
       " 1.0000000000000002e-06,\n",
       " 1.0000000000000002e-06,\n",
       " 1.0000000000000002e-06,\n",
       " 1.0000000000000002e-06,\n",
       " 1.0000000000000002e-06,\n",
       " 1.0000000000000002e-06,\n",
       " 1.0000000000000002e-06]"
      ]
     },
     "execution_count": 84,
     "metadata": {},
     "output_type": "execute_result"
    }
   ],
   "source": [
    "lr_list"
   ]
  },
  {
   "cell_type": "code",
   "execution_count": null,
   "metadata": {},
   "outputs": [],
   "source": []
  }
 ],
 "metadata": {
  "kernelspec": {
   "display_name": "Python 3",
   "language": "python",
   "name": "python3"
  },
  "language_info": {
   "codemirror_mode": {
    "name": "ipython",
    "version": 3
   },
   "file_extension": ".py",
   "mimetype": "text/x-python",
   "name": "python",
   "nbconvert_exporter": "python",
   "pygments_lexer": "ipython3",
   "version": "3.6.8"
  }
 },
 "nbformat": 4,
 "nbformat_minor": 2
}
