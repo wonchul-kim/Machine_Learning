{
 "cells": [
  {
   "cell_type": "markdown",
   "metadata": {},
   "source": [
    "### SEQUENCE MODELS AND LONG-SHORT TERM MEMORY NETWORKS\n",
    "\n",
    "Within feed-forward networks, there is no state maintained by the network at all. The classical examples of a sequence model are the Hidden Markov Model for part-of-speech tagging and conditional random field.\n",
    "\n",
    "A recurrent neural network is a network that maintains some kind of state. For example, its output could be used as part of the next input, so that information can propogate along as the network passes over the sequence. In the case of an LSTM, for each element in the sequence, there is a corresponding hidden state $h_t$, which in principle can contain information from arbitrary points earlier in the sequence. We can use the hidden state to predict words in a language model, part-of-speech tags, and a myriad of other things.\n",
    "\n",
    "#### LSTM’s in Pytorch\n",
    "\n",
    "Pytorch’s LSTM expects all of its inputs to be 3D tensors. \n",
    "* The first axis is the sequence itself.\n",
    "* The second indexes instances in the mini-batch.\n",
    "* The third indexes elements of the input.\n",
    "\n",
    "> Isn't it like [batch_size, num_rows, num_cols]?????????????\n",
    "\n",
    "\n",
    "We haven’t discussed mini-batching, so lets just ignore that and assume we will always have just 1 dimension on the second axis. If we want to run the sequence model over the sentence “The cow jumped”, our input should look like\n",
    "\n",
    "$$\n",
    "\\begin{bmatrix}\n",
    "The \\\\\n",
    "row \\\\\n",
    "jumped\n",
    "\\end{bmatrix}\n",
    "$$\n",
    "\n",
    "Except remember there is an additional 2nd dimension with size 1.\n",
    "\n",
    "In addition, you could go through the sequence one at a time, in which case the 1st axis will have size 1 also.\n",
    "\n",
    "Let’s see a quick example."
   ]
  },
  {
   "cell_type": "code",
   "execution_count": 15,
   "metadata": {},
   "outputs": [
    {
     "data": {
      "text/plain": [
       "<torch._C.Generator at 0x7f6f586003d0>"
      ]
     },
     "execution_count": 15,
     "metadata": {},
     "output_type": "execute_result"
    }
   ],
   "source": [
    "import torch\n",
    "import torch.nn as nn\n",
    "import torch.nn.functional as F\n",
    "import torch.optim as optim\n",
    "\n",
    "torch.manual_seed(1)"
   ]
  },
  {
   "cell_type": "code",
   "execution_count": 24,
   "metadata": {},
   "outputs": [],
   "source": [
    "lstm = nn.LSTM(3, 3) # input dim is 3, output dim is 3"
   ]
  },
  {
   "cell_type": "code",
   "execution_count": 25,
   "metadata": {},
   "outputs": [
    {
     "data": {
      "text/plain": [
       "[tensor([[-0.1473,  0.3482,  1.1371]]),\n",
       " tensor([[-0.3339, -1.4724,  0.7296]]),\n",
       " tensor([[-0.1312, -0.6368,  1.0429]]),\n",
       " tensor([[ 0.4903,  1.0318, -0.5989]]),\n",
       " tensor([[ 1.6015, -1.0735, -1.2173]])]"
      ]
     },
     "execution_count": 25,
     "metadata": {},
     "output_type": "execute_result"
    }
   ],
   "source": [
    "# make inputs which have 5 (1, 3) shapes' sequencei\n",
    "inputs = [torch.randn(1, 3) for _ in range(5)]\n",
    "inputs"
   ]
  },
  {
   "cell_type": "code",
   "execution_count": 26,
   "metadata": {},
   "outputs": [
    {
     "data": {
      "text/plain": [
       "(tensor([[[ 0.6472, -0.0412, -0.1775]]]),\n",
       " tensor([[[-0.5000,  0.8673, -0.2732]]]))"
      ]
     },
     "execution_count": 26,
     "metadata": {},
     "output_type": "execute_result"
    }
   ],
   "source": [
    "hidden = (torch.randn(1, 1, 3),\n",
    "          torch.randn(1, 1, 3))\n",
    "hidden"
   ]
  },
  {
   "cell_type": "code",
   "execution_count": 27,
   "metadata": {},
   "outputs": [
    {
     "data": {
      "text/plain": [
       "tensor([[[-0.1473,  0.3482,  1.1371]]])"
      ]
     },
     "execution_count": 27,
     "metadata": {},
     "output_type": "execute_result"
    }
   ],
   "source": [
    "inputs[0].view(1, 1, -1)"
   ]
  },
  {
   "cell_type": "code",
   "execution_count": 28,
   "metadata": {},
   "outputs": [],
   "source": [
    "for in_val in inputs:\n",
    "    # step through the sequence one element at a time (batch_size=1)\n",
    "    # after each step, hidden contains the hidden state.\n",
    "    out, hidden = lstm(in_val.view(1, 1, -1), hidden)\n",
    "    # pytorch's lstm expect the input dimension to be 3D\n",
    "    "
   ]
  },
  {
   "cell_type": "code",
   "execution_count": 29,
   "metadata": {},
   "outputs": [
    {
     "data": {
      "text/plain": [
       "tensor([[[-0.1077,  0.0289, -0.0487]]], grad_fn=<StackBackward>)"
      ]
     },
     "execution_count": 29,
     "metadata": {},
     "output_type": "execute_result"
    }
   ],
   "source": [
    "out"
   ]
  },
  {
   "cell_type": "markdown",
   "metadata": {},
   "source": [
    "alternatively, we can do the entire sequence all at once. The first value returned by LSTM is all of the hidden states throughout the sequence. The second is just the most recent hidden state (compare the last slice of \"out\" with \"hidden\" below, they are the same)\n",
    "\n",
    "The reason for this is that \"out\" will give you access to all hidden states in the sequence and \"hidden\" will allow you to continue the sequence and backpropagate by passing it as an argument  to the lstm at a later time \n"
   ]
  },
  {
   "cell_type": "code",
   "execution_count": 30,
   "metadata": {},
   "outputs": [
    {
     "data": {
      "text/plain": [
       "tensor([[[-0.1473,  0.3482,  1.1371]],\n",
       "\n",
       "        [[-0.3339, -1.4724,  0.7296]],\n",
       "\n",
       "        [[-0.1312, -0.6368,  1.0429]],\n",
       "\n",
       "        [[ 0.4903,  1.0318, -0.5989]],\n",
       "\n",
       "        [[ 1.6015, -1.0735, -1.2173]]])"
      ]
     },
     "execution_count": 30,
     "metadata": {},
     "output_type": "execute_result"
    }
   ],
   "source": [
    "# Add the extra 2nd dimension\n",
    "inputs = torch.cat(inputs).view(len(inputs), 1, -1)\n",
    "inputs"
   ]
  },
  {
   "cell_type": "code",
   "execution_count": 31,
   "metadata": {},
   "outputs": [],
   "source": [
    "hidden = (torch.randn(1, 1, 3), \n",
    "          torch.randn(1, 1, 3))"
   ]
  },
  {
   "cell_type": "code",
   "execution_count": 32,
   "metadata": {},
   "outputs": [
    {
     "name": "stdout",
     "output_type": "stream",
     "text": [
      "tensor([[[ 0.2486, -0.0525, -0.2524]],\n",
      "\n",
      "        [[ 0.1750, -0.0048, -0.1143]],\n",
      "\n",
      "        [[-0.0102,  0.0536, -0.1400]],\n",
      "\n",
      "        [[-0.0357,  0.0877, -0.0192]],\n",
      "\n",
      "        [[ 0.2145,  0.0192, -0.0337]]], grad_fn=<StackBackward>)\n",
      "(tensor([[[ 0.2145,  0.0192, -0.0337]]], grad_fn=<StackBackward>), tensor([[[ 0.2984,  0.0952, -0.1647]]], grad_fn=<StackBackward>))\n"
     ]
    }
   ],
   "source": [
    "out, hidden = lstm(inputs, hidden)\n",
    "print(out)\n",
    "print(hidden)"
   ]
  },
  {
   "cell_type": "code",
   "execution_count": null,
   "metadata": {},
   "outputs": [],
   "source": []
  }
 ],
 "metadata": {
  "kernelspec": {
   "display_name": "Python 3",
   "language": "python",
   "name": "python3"
  },
  "language_info": {
   "codemirror_mode": {
    "name": "ipython",
    "version": 3
   },
   "file_extension": ".py",
   "mimetype": "text/x-python",
   "name": "python",
   "nbconvert_exporter": "python",
   "pygments_lexer": "ipython3",
   "version": "3.7.7"
  }
 },
 "nbformat": 4,
 "nbformat_minor": 4
}
