{
 "cells": [
  {
   "cell_type": "code",
   "execution_count": 302,
   "metadata": {},
   "outputs": [],
   "source": [
    "import torch\n",
    "import torch.autograd as autograd\n",
    "import torch.nn as nn\n",
    "import torch.functional as F\n",
    "import torch.optim as optim\n",
    "\n",
    "import pprint"
   ]
  },
  {
   "cell_type": "code",
   "execution_count": 303,
   "metadata": {},
   "outputs": [],
   "source": [
    "pp = pprint.PrettyPrinter(1)"
   ]
  },
  {
   "cell_type": "code",
   "execution_count": 304,
   "metadata": {},
   "outputs": [
    {
     "name": "stdout",
     "output_type": "stream",
     "text": [
      "tensor([[[ 1.2477, -0.2190, -0.7004,  2.6643,  0.8542,  0.1227, -0.0854,\n",
      "          -0.5308, -1.1810,  0.5099],\n",
      "         [-0.4892, -0.8385, -0.0765,  0.3712, -0.6594, -0.2877, -0.5076,\n",
      "          -1.1302, -0.5689,  0.8337]]])\n",
      "tensor([[[ 0.3210,  1.4443,  0.1791, -0.5693,  0.0302,  1.3369, -0.9102,\n",
      "           1.6983, -1.0751, -0.3875],\n",
      "         [ 0.2170,  0.3379, -1.5509,  0.2634,  0.5176, -1.0967,  0.6045,\n",
      "          -1.0780, -1.1225, -1.4698]]])\n"
     ]
    }
   ],
   "source": [
    "lstm = nn.LSTM(5, 10, 1) # (input dim., output dim., numb. layers)\n",
    "h0 = torch.randn(1, 2, 10)\n",
    "c0 = torch.randn(1, 2, 10)\n",
    "pp.pprint(h0)\n",
    "pp.pprint(c0)"
   ]
  },
  {
   "cell_type": "code",
   "execution_count": 305,
   "metadata": {},
   "outputs": [
    {
     "name": "stdout",
     "output_type": "stream",
     "text": [
      "tensor([[[-0.0901,  0.1901,  0.4418, -1.1341,  0.0049],\n",
      "         [ 1.0814,  0.7738,  0.0671, -0.7682, -0.6610]]])\n"
     ]
    }
   ],
   "source": [
    "inputs = torch.randn(1, 2, 5) # (batch length, numb. sentence, input dim. or numb. class)   \n",
    "outputs, (hn, cn) = lstm(inputs, (h0, c0))\n",
    "pp.pprint(inputs)"
   ]
  },
  {
   "cell_type": "code",
   "execution_count": 306,
   "metadata": {},
   "outputs": [
    {
     "data": {
      "text/plain": [
       "tensor([[[-0.0353,  0.1589, -0.0811,  0.3028, -0.1360,  0.2658, -0.2031,\n",
       "           0.1759, -0.0026, -0.0844],\n",
       "         [-0.0692, -0.0147, -0.2613,  0.2759, -0.0068, -0.0832,  0.1886,\n",
       "          -0.4269, -0.1397, -0.2173]]], grad_fn=<StackBackward>)"
      ]
     },
     "execution_count": 306,
     "metadata": {},
     "output_type": "execute_result"
    }
   ],
   "source": [
    "hn"
   ]
  },
  {
   "cell_type": "code",
   "execution_count": 307,
   "metadata": {},
   "outputs": [
    {
     "data": {
      "text/plain": [
       "tensor([[[-0.0838,  0.7665, -0.2411,  0.4545, -0.2900,  0.5229, -0.5203,\n",
       "           1.4079, -0.0079, -0.3968],\n",
       "         [-0.1412, -0.0428, -1.1500,  0.3910, -0.0120, -0.2135,  0.3891,\n",
       "          -1.1080, -0.4037, -0.6661]]], grad_fn=<StackBackward>)"
      ]
     },
     "execution_count": 307,
     "metadata": {},
     "output_type": "execute_result"
    }
   ],
   "source": [
    "cn"
   ]
  },
  {
   "cell_type": "code",
   "execution_count": 308,
   "metadata": {},
   "outputs": [
    {
     "name": "stdout",
     "output_type": "stream",
     "text": [
      "tensor([[[-0.0353,  0.1589, -0.0811,  0.3028, -0.1360,  0.2658, -0.2031,\n",
      "           0.1759, -0.0026, -0.0844],\n",
      "         [-0.0692, -0.0147, -0.2613,  0.2759, -0.0068, -0.0832,  0.1886,\n",
      "          -0.4269, -0.1397, -0.2173]]], grad_fn=<StackBackward>)\n"
     ]
    }
   ],
   "source": [
    "pp.pprint(outputs)"
   ]
  },
  {
   "cell_type": "code",
   "execution_count": 309,
   "metadata": {},
   "outputs": [
    {
     "name": "stdout",
     "output_type": "stream",
     "text": [
      "tensor([[[-0.0901,  0.1901,  0.4418, -1.1341,  0.0049],\n",
      "         [ 1.0814,  0.7738,  0.0671, -0.7682, -0.6610]]])\n"
     ]
    }
   ],
   "source": [
    "pp.pprint(inputs)"
   ]
  },
  {
   "cell_type": "code",
   "execution_count": 310,
   "metadata": {},
   "outputs": [
    {
     "name": "stdout",
     "output_type": "stream",
     "text": [
      "2\n",
      "[tensor([[[-0.0901,  0.1901,  0.4418, -1.1341,  0.0049]]]), tensor([[[ 1.0814,  0.7738,  0.0671, -0.7682, -0.6610]]])]\n"
     ]
    }
   ],
   "source": [
    "inputs_ = [inputs[0][0].view(1, 1, 5), inputs[0][1].view(1, 1, 5)]\n",
    "print(len(inputs_))\n",
    "print(inputs_)"
   ]
  },
  {
   "cell_type": "code",
   "execution_count": 311,
   "metadata": {},
   "outputs": [],
   "source": [
    "lstm = nn.LSTM(5, 10, 1) # (input dim., output dim., numb. layers)"
   ]
  },
  {
   "cell_type": "code",
   "execution_count": 312,
   "metadata": {},
   "outputs": [
    {
     "name": "stdout",
     "output_type": "stream",
     "text": [
      "tensor([-0.4892, -0.8385, -0.0765,  0.3712, -0.6594, -0.2877, -0.5076, -1.1302,\n",
      "        -0.5689,  0.8337])\n",
      "tensor([[[ 1.2477, -0.2190, -0.7004,  2.6643,  0.8542,  0.1227, -0.0854,\n",
      "          -0.5308, -1.1810,  0.5099],\n",
      "         [-0.4892, -0.8385, -0.0765,  0.3712, -0.6594, -0.2877, -0.5076,\n",
      "          -1.1302, -0.5689,  0.8337]]])\n"
     ]
    }
   ],
   "source": [
    "pp.pprint(h0[0][1])\n",
    "pp.pprint(h0)"
   ]
  },
  {
   "cell_type": "code",
   "execution_count": 313,
   "metadata": {},
   "outputs": [
    {
     "data": {
      "text/plain": [
       "torch.Size([1, 2, 10])"
      ]
     },
     "execution_count": 313,
     "metadata": {},
     "output_type": "execute_result"
    }
   ],
   "source": [
    "h0.size()"
   ]
  },
  {
   "cell_type": "code",
   "execution_count": 314,
   "metadata": {},
   "outputs": [
    {
     "name": "stdout",
     "output_type": "stream",
     "text": [
      "tensor([[[ 1.2477, -0.2190, -0.7004,  2.6643,  0.8542,  0.1227, -0.0854,\n",
      "          -0.5308, -1.1810,  0.5099],\n",
      "         [-0.4892, -0.8385, -0.0765,  0.3712, -0.6594, -0.2877, -0.5076,\n",
      "          -1.1302, -0.5689,  0.8337]]])\n"
     ]
    }
   ],
   "source": [
    "pp.pprint(h0)"
   ]
  },
  {
   "cell_type": "code",
   "execution_count": 315,
   "metadata": {},
   "outputs": [],
   "source": [
    "h = [h0[0][0].view(1, 1, 10), h0[0][1].view(1, 1, 10)]\n",
    "c = [c0[0][0].view(1, 1, 10), c0[0][1].view(1, 1, 10)]"
   ]
  },
  {
   "cell_type": "code",
   "execution_count": 316,
   "metadata": {},
   "outputs": [
    {
     "data": {
      "text/plain": [
       "[tensor([[[ 1.2477, -0.2190, -0.7004,  2.6643,  0.8542,  0.1227, -0.0854,\n",
       "           -0.5308, -1.1810,  0.5099]]]),\n",
       " tensor([[[-0.4892, -0.8385, -0.0765,  0.3712, -0.6594, -0.2877, -0.5076,\n",
       "           -1.1302, -0.5689,  0.8337]]])]"
      ]
     },
     "execution_count": 316,
     "metadata": {},
     "output_type": "execute_result"
    }
   ],
   "source": [
    "h"
   ]
  },
  {
   "cell_type": "code",
   "execution_count": 317,
   "metadata": {},
   "outputs": [
    {
     "data": {
      "text/plain": [
       "[tensor([[[-0.0901,  0.1901,  0.4418, -1.1341,  0.0049]]]),\n",
       " tensor([[[ 1.0814,  0.7738,  0.0671, -0.7682, -0.6610]]])]"
      ]
     },
     "execution_count": 317,
     "metadata": {},
     "output_type": "execute_result"
    }
   ],
   "source": [
    "inputs_"
   ]
  },
  {
   "cell_type": "code",
   "execution_count": 318,
   "metadata": {},
   "outputs": [
    {
     "data": {
      "text/plain": [
       "tensor([[[-0.0901,  0.1901,  0.4418, -1.1341,  0.0049]]])"
      ]
     },
     "execution_count": 318,
     "metadata": {},
     "output_type": "execute_result"
    }
   ],
   "source": [
    "inputs_[0]"
   ]
  },
  {
   "cell_type": "code",
   "execution_count": 319,
   "metadata": {},
   "outputs": [
    {
     "data": {
      "text/plain": [
       "tensor([[[ 1.0814,  0.7738,  0.0671, -0.7682, -0.6610]]])"
      ]
     },
     "execution_count": 319,
     "metadata": {},
     "output_type": "execute_result"
    }
   ],
   "source": [
    "inputs_[1]"
   ]
  },
  {
   "cell_type": "code",
   "execution_count": 320,
   "metadata": {},
   "outputs": [
    {
     "name": "stdout",
     "output_type": "stream",
     "text": [
      "**************** 0 **************\n",
      "tensor([[[-0.0901,  0.1901,  0.4418, -1.1341,  0.0049]]])\n",
      "tensor([[[ 0.2108,  0.2521, -0.0364,  0.0156,  0.2169,  0.1661, -0.0685,\n",
      "           0.6119, -0.1947, -0.1266]]], grad_fn=<StackBackward>)\n",
      "tensor([[[ 0.3427,  0.4398, -0.0565,  0.0255,  0.3024,  0.8189, -0.1380,\n",
      "           1.5817, -0.4235, -0.1958]]], grad_fn=<StackBackward>)\n",
      "tensor([[[ 0.2108,  0.2521, -0.0364,  0.0156,  0.2169,  0.1661, -0.0685,\n",
      "           0.6119, -0.1947, -0.1266]]], grad_fn=<StackBackward>)\n",
      "**************** 1 **************\n",
      "tensor([[[ 1.0814,  0.7738,  0.0671, -0.7682, -0.6610]]])\n",
      "tensor([[[-0.1292,  0.0384,  0.0547, -0.0680,  0.1952,  0.1468, -0.2757,\n",
      "           0.5826, -0.0248, -0.0019]]], grad_fn=<StackBackward>)\n",
      "tensor([[[-0.2205,  0.0675,  0.1311, -0.1176,  0.4279,  0.3085, -0.4220,\n",
      "           1.0372, -0.0567, -0.0040]]], grad_fn=<StackBackward>)\n",
      "tensor([[[-0.1292,  0.0384,  0.0547, -0.0680,  0.1952,  0.1468, -0.2757,\n",
      "           0.5826, -0.0248, -0.0019]]], grad_fn=<StackBackward>)\n"
     ]
    }
   ],
   "source": [
    "h = h[0]\n",
    "c = c[0]\n",
    "for i in range(len(inputs_)):\n",
    "    hidden, (h, c) = lstm(inputs_[i], (h, c))\n",
    "    print('**************** {} **************'.format(i))\n",
    "    pp.pprint(inputs_[i])\n",
    "    pp.pprint(h)\n",
    "    pp.pprint(c)\n",
    "    pp.pprint(hidden)\n",
    "#     inputs_ = hidden"
   ]
  },
  {
   "cell_type": "code",
   "execution_count": 321,
   "metadata": {},
   "outputs": [
    {
     "ename": "SyntaxError",
     "evalue": "invalid syntax (<ipython-input-321-f6fdd00f108d>, line 4)",
     "output_type": "error",
     "traceback": [
      "\u001b[0;36m  File \u001b[0;32m\"<ipython-input-321-f6fdd00f108d>\"\u001b[0;36m, line \u001b[0;32m4\u001b[0m\n\u001b[0;31m    -0.0801, -0.0163, -0.0550]]], grad_fn=<StackBackward>)\u001b[0m\n\u001b[0m                                          ^\u001b[0m\n\u001b[0;31mSyntaxError\u001b[0m\u001b[0;31m:\u001b[0m invalid syntax\n"
     ]
    }
   ],
   "source": [
    "hn\n",
    "tensor([[[-0.0353,  0.1589, -0.0811,  0.3028, -0.1360,  0.2658, -0.2031,\n",
    "           0.1759, -0.0026, -0.0844],\n",
    "         [-0.0692, -0.0147, -0.2613,  0.2759, -0.0068, -0.0832,  0.1886,\n",
    "          -0.4269, -0.1397, -0.2173]]], grad_fn=<StackBackward>)\n",
    "\n",
    "cn\n",
    "tensor([[[-0.0838,  0.7665, -0.2411,  0.4545, -0.2900,  0.5229, -0.5203,\n",
    "           1.4079, -0.0079, -0.3968],\n",
    "         [-0.1412, -0.0428, -1.1500,  0.3910, -0.0120, -0.2135,  0.3891,\n",
    "          -1.1080, -0.4037, -0.6661]]], grad_fn=<StackBackward>)\n",
    "\n",
    "pp.pprint(outputs)\n",
    "tensor([[[-0.0353,  0.1589, -0.0811,  0.3028, -0.1360,  0.2658, -0.2031,\n",
    "           0.1759, -0.0026, -0.0844],\n",
    "         [-0.0692, -0.0147, -0.2613,  0.2759, -0.0068, -0.0832,  0.1886,\n",
    "          -0.4269, -0.1397, -0.2173]]], grad_fn=<StackBackward>)"
   ]
  },
  {
   "cell_type": "code",
   "execution_count": 328,
   "metadata": {},
   "outputs": [],
   "source": [
    "a = torch.zeros(2, 2)"
   ]
  },
  {
   "cell_type": "code",
   "execution_count": 329,
   "metadata": {},
   "outputs": [
    {
     "data": {
      "text/plain": [
       "tensor([[0., 0.],\n",
       "        [0., 0.]])"
      ]
     },
     "execution_count": 329,
     "metadata": {},
     "output_type": "execute_result"
    }
   ],
   "source": [
    "a"
   ]
  },
  {
   "cell_type": "code",
   "execution_count": 339,
   "metadata": {},
   "outputs": [
    {
     "name": "stdout",
     "output_type": "stream",
     "text": [
      "torch.Size([2, 2, 1])\n",
      "tensor([[[0.],\n",
      "         [0.]],\n",
      "\n",
      "        [[0.],\n",
      "         [0.]]])\n"
     ]
    }
   ],
   "source": [
    "b = a.unsqueeze(2)\n",
    "print(b.size())\n",
    "pp.pprint(b)"
   ]
  }
 ],
 "metadata": {
  "kernelspec": {
   "display_name": "Python 3",
   "language": "python",
   "name": "python3"
  },
  "language_info": {
   "codemirror_mode": {
    "name": "ipython",
    "version": 3
   },
   "file_extension": ".py",
   "mimetype": "text/x-python",
   "name": "python",
   "nbconvert_exporter": "python",
   "pygments_lexer": "ipython3",
   "version": "3.7.7"
  }
 },
 "nbformat": 4,
 "nbformat_minor": 4
}
