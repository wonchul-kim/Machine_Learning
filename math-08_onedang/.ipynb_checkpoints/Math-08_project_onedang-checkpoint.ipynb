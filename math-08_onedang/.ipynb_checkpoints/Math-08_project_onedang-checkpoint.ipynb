{
 "cells": [
  {
   "cell_type": "markdown",
   "metadata": {},
   "source": [
    "# 미니 프로젝트 (60분)"
   ]
  },
  {
   "cell_type": "markdown",
   "metadata": {},
   "source": [
    "### Example \n",
    "\n",
    "이번에는 앞서 배운 정보량의 이론을 활용하여 다음의 주어진 문제를 풀어보도록 하겠습니다. \n",
    "\n",
    "**[문제 1-1]**<br/>\n",
    "\n",
    "모두 동일한 확률을 갖는 동전을 던질 경우 이에 대한 정보량을 계산하십시오\n",
    "\n"
   ]
  },
  {
   "cell_type": "code",
   "execution_count": 1,
   "metadata": {},
   "outputs": [],
   "source": [
    "from math import log2"
   ]
  },
  {
   "cell_type": "code",
   "execution_count": 2,
   "metadata": {},
   "outputs": [
    {
     "name": "stdout",
     "output_type": "stream",
     "text": [
      " p(x)=0.500, information: 1.000 bits \n"
     ]
    }
   ],
   "source": [
    "# 사건에 대한 확률\n",
    "p = 0.5\n",
    "# information\n",
    "I = -log2(p)\n",
    "\n",
    "print( ' p(x)=%.3f, information: %.3f bits ' % (p, I))"
   ]
  },
  {
   "cell_type": "markdown",
   "metadata": {},
   "source": [
    "**[문제 1-2]**<br/>\n",
    "\n",
    "앞선 [문제 1-1]의 풀이방식을 활용하여 확률이 [0.1, 0.2, 0.3, 0.4, 0.5, 0.6, 0.7, 0.8, 0.9, 1.0]로 변화함에 따라 정보량이 어떻게 변화는지를 코드로 작성하고 결과에 대해 서술하시오\n"
   ]
  },
  {
   "cell_type": "code",
   "execution_count": 3,
   "metadata": {},
   "outputs": [],
   "source": [
    "from math import log2\n",
    "import matplotlib.pyplot as plt"
   ]
  },
  {
   "cell_type": "code",
   "execution_count": 5,
   "metadata": {},
   "outputs": [
    {
     "data": {
      "image/png": "[encoded data removed]",
      "text/plain": [
       "<Figure size 432x288 with 1 Axes>"
      ]
     },
     "metadata": {
      "needs_background": "light"
     },
     "output_type": "display_data"
    }
   ],
   "source": [
    "# 비교할 확률 리스트\n",
    "probs = [0.1, 0.2, 0.3, 0.4, 0.5, 0.6, 0.7, 0.8, 0.9, 1.0]\n",
    "# information\n",
    "info = [-log2(p) for p in probs]\n",
    "\n",
    "# plot probability vs information\n",
    "plt.plot(probs, info, marker= '.' )\n",
    "plt.xlabel('Probability')\n",
    "plt.ylabel('Information')\n",
    "plt.show()"
   ]
  },
  {
   "cell_type": "markdown",
   "metadata": {},
   "source": [
    "위의 결론에 의해서 정보량과 확률은 서로 반비례함을 알 수 있습니다."
   ]
  },
  {
   "cell_type": "markdown",
   "metadata": {},
   "source": [
    "**[문제 2-1]**<br/>\n",
    "\n",
    "앞선 예제와 마찬가지로, 1/2의 모두 동일한 확률로 앞/뒤면이 나오는 동전을 던질 때의 variable에 대한 entropy를 구하시오. 그리고 앞선 [문제 1-1]과의 결과와 비교하시오\n"
   ]
  },
  {
   "cell_type": "code",
   "execution_count": 6,
   "metadata": {},
   "outputs": [],
   "source": [
    "from math import log2"
   ]
  },
  {
   "cell_type": "code",
   "execution_count": 7,
   "metadata": {},
   "outputs": [
    {
     "name": "stdout",
     "output_type": "stream",
     "text": [
      "entropy: 1.0 bits\n"
     ]
    }
   ],
   "source": [
    "# 사건 횟수\n",
    "n = 2\n",
    "# 사건의 확률\n",
    "p = 1.0 /n\n",
    "\n",
    "# entropy\n",
    "entropy = -sum([p * log2(p) for _ in range(n)])\n",
    "\n",
    "print('entropy: {} bits'.format(entropy))"
   ]
  },
  {
   "cell_type": "markdown",
   "metadata": {},
   "source": [
    "주어진 문제의 동전은 모두 1/2의 확률을 가지므로 uniform probability distribution입니다. 그러므로 앞선 [문제 1-1]에서 정보량을 계산한 값과 동일하게 결과가 나옵니다."
   ]
  },
  {
   "cell_type": "markdown",
   "metadata": {},
   "source": [
    "**[문제 2-2]**<br/>\n",
    "앞선 [문제 1-1]의 풀이방식을 활용하여 확률이 [0.0, 0.1, 0.2, 0.3, 0.4, 0.5]]로 변화함에 따라 정보량이 어떻게 변화는지를 코드로 작성하고 결과에 대해 서술하시오"
   ]
  },
  {
   "cell_type": "code",
   "execution_count": 8,
   "metadata": {},
   "outputs": [],
   "source": [
    "from math import log2\n",
    "import matplotlib.pyplot as plt"
   ]
  },
  {
   "cell_type": "code",
   "execution_count": 9,
   "metadata": {},
   "outputs": [],
   "source": [
    "# entropy\n",
    "def entropy(events, ets=1e-15):\n",
    "    return -sum([p * log2(p + ets) for p in events])"
   ]
  },
  {
   "cell_type": "code",
   "execution_count": 11,
   "metadata": {},
   "outputs": [
    {
     "data": {
      "image/png": "[encoded data removed]",
      "text/plain": [
       "<Figure size 432x288 with 1 Axes>"
      ]
     },
     "metadata": {
      "needs_background": "light"
     },
     "output_type": "display_data"
    }
   ],
   "source": [
    "# 비교할 확률 리스트\n",
    "probs = [0.0, 0.1, 0.2, 0.3, 0.4, 0.5]\n",
    "# 확률분포\n",
    "dists = [[p, 1.0 - p] for p in probs]\n",
    "# 각각의 분포에 대한 entropy\n",
    "ents = [entropy(d) for d in dists]\n",
    "\n",
    "# plot probability distribution vs entropy\n",
    "plt.plot(probs, ents, marker= '.' )\n",
    "plt.xticks(probs, [str(d) for d in dists])\n",
    "plt.xlabel('Probability Distribution')\n",
    "plt.ylabel('Entropy (bits)')\n",
    "plt.show()"
   ]
  },
  {
   "cell_type": "markdown",
   "metadata": {},
   "source": [
    "**[문제 3, 4]**<br/>\n",
    "\n",
    "어떠한 상자에 5가지의 색을 가진 공이 존재합니다. 그리고 상자에 손을 넣어 어떠한 색을 뽑을 두 확률 분포가 존재할 때, KL divergence와 Cross-entropy를 각각 구해보겠습니다. \n",
    "\n",
    "* 상자속 공의 색: red, blue, black\n",
    "\n",
    "* 두 확률 분포\n",
    "    * p = [0.05, 0.25, 0.7]\n",
    "    * q = [0.85, 0.05, 0.1]\n",
    "    "
   ]
  },
  {
   "cell_type": "markdown",
   "metadata": {},
   "source": [
    "**[문제 3-1]**\n",
    "먼저, 주어진 문제에 대해서 확률분포를 정의하겠습니다. "
   ]
  },
  {
   "cell_type": "code",
   "execution_count": 34,
   "metadata": {},
   "outputs": [],
   "source": [
    "from math import log2"
   ]
  },
  {
   "cell_type": "code",
   "execution_count": 35,
   "metadata": {},
   "outputs": [],
   "source": [
    "events = ['red', 'blue', 'green', 'yellow', 'black']\n",
    "p = [0.05, 0.25, 0.7]\n",
    "q = [0.85, 0.05, 0.1]"
   ]
  },
  {
   "cell_type": "markdown",
   "metadata": {},
   "source": [
    "**[문제 3-2]**\n",
    "주어진 확률 분포에 대해서 확률의 특성을 만족하는지에 대해서 확인하겠습니다. "
   ]
  },
  {
   "cell_type": "code",
   "execution_count": 36,
   "metadata": {},
   "outputs": [
    {
     "name": "stdout",
     "output_type": "stream",
     "text": [
      "P=1.000 Q=1.000\n"
     ]
    }
   ],
   "source": [
    "print('P=%.3f Q=%.3f' % (sum(p), sum(q)))"
   ]
  },
  {
   "cell_type": "markdown",
   "metadata": {},
   "source": [
    "**[문제 3-3]** 두 확률 분포의 KL divergence를 구하여보겠습니다. "
   ]
  },
  {
   "cell_type": "code",
   "execution_count": 37,
   "metadata": {},
   "outputs": [],
   "source": [
    "def kl_divergence(p, q):\n",
    "    return sum(p[i] * log2(p[i]/q[i]) for i in range(len(p)))"
   ]
  },
  {
   "cell_type": "code",
   "execution_count": 38,
   "metadata": {},
   "outputs": [
    {
     "name": "stdout",
     "output_type": "stream",
     "text": [
      "KL(P || Q): 2.341 bits\n"
     ]
    }
   ],
   "source": [
    "kl_pq = kl_divergence(p, q)\n",
    "print('KL(P || Q): %.3f bits' % kl_pq)"
   ]
  },
  {
   "cell_type": "markdown",
   "metadata": {},
   "source": [
    "**[문제 3-4]** KL divergence의 symmetric에 대해서 확인하겠습니다. "
   ]
  },
  {
   "cell_type": "code",
   "execution_count": 39,
   "metadata": {},
   "outputs": [
    {
     "name": "stdout",
     "output_type": "stream",
     "text": [
      "KL(Q || P): 3.078 bits\n"
     ]
    }
   ],
   "source": [
    "kl_qp = kl_divergence(q, p)\n",
    "print('KL(Q || P): %.3f bits' % kl_qp)"
   ]
  },
  {
   "cell_type": "markdown",
   "metadata": {},
   "source": [
    "**[문제 4-1]** 위에서의 두 확률분포에 대한 Cross-entropy를 구하여보겠습니다. "
   ]
  },
  {
   "cell_type": "code",
   "execution_count": 40,
   "metadata": {},
   "outputs": [],
   "source": [
    "def cross_entropy0(p, q):\n",
    "    return -sum([p[i]*log2(q[i]) for i in range(len(p))])"
   ]
  },
  {
   "cell_type": "code",
   "execution_count": 41,
   "metadata": {},
   "outputs": [
    {
     "name": "stdout",
     "output_type": "stream",
     "text": [
      "H(P, Q): 3.418 bits\n",
      "H(Q, P): 3.825 bits\n"
     ]
    }
   ],
   "source": [
    "ce_pq = cross_entropy0(p, q)\n",
    "print('H(P, Q): %.3f bits' % ce_pq)\n",
    "\n",
    "ce_qp = cross_entropy0(q, p)\n",
    "print('H(Q, P): %.3f bits' % ce_qp)"
   ]
  },
  {
   "cell_type": "markdown",
   "metadata": {},
   "source": [
    "**[문제 4-2]** 위에서의 구한 KL divergence를 활요하여 Cross-entropy를 구하여보겠습니다. "
   ]
  },
  {
   "cell_type": "code",
   "execution_count": 42,
   "metadata": {},
   "outputs": [],
   "source": [
    "def kl_divergence(p, q):\n",
    "    return sum(p[i] * log2(p[i]/q[i]) for i in range(len(p)))\n",
    " \n",
    "def entropy(p):\n",
    "    return -sum([p[i] * log2(p[i]) for i in range(len(p))])\n",
    " \n",
    "def cross_entropy1(p, q):\n",
    "    return entropy(p) + kl_divergence(p, q)"
   ]
  },
  {
   "cell_type": "code",
   "execution_count": 43,
   "metadata": {},
   "outputs": [
    {
     "name": "stdout",
     "output_type": "stream",
     "text": [
      "H(P): 1.076 bits\n",
      "KL(P || Q): 2.341 bits\n",
      "H(P, Q): 3.418 bits\n"
     ]
    }
   ],
   "source": [
    "en_p = entropy(p)\n",
    "print('H(P): %.3f bits' % en_p)\n",
    "\n",
    "kl_pq = kl_divergence(p, q)\n",
    "print('KL(P || Q): %.3f bits' % kl_pq)\n",
    "\n",
    "ce_pq = cross_entropy1(p, q)\n",
    "print('H(P, Q): %.3f bits' % ce_pq)"
   ]
  },
  {
   "cell_type": "markdown",
   "metadata": {},
   "source": [
    "### Problem\n",
    "\n",
    "**[문제 1-1]**<br/>\n",
    "\n",
    "모두 동일한 확률을 갖는 주사위를 던질 경우 이에 대한 정보량을 계산하십시오\n"
   ]
  },
  {
   "cell_type": "markdown",
   "metadata": {},
   "source": [
    "**[문제 1-2]**<br/>\n",
    "\n",
    "앞선 [문제 1-1]의 풀이방식을 활용하여 확률이 [0.1, 0.2, 0.3, 0.4, 0.5, 0.6, 0.7, 0.8, 0.9, 1.0]로 변화함에 따라 정보량이 어떻게 변화는지를 코드로 작성하고 결과에 대해 서술하시오\n"
   ]
  },
  {
   "cell_type": "markdown",
   "metadata": {},
   "source": [
    "위의 결론에 의해서 정보량과 확률은 서로 반비례함을 알 수 있습니다."
   ]
  },
  {
   "cell_type": "markdown",
   "metadata": {},
   "source": [
    "**[문제 2-1]**<br/>\n",
    "\n",
    "앞선 예제와 마찬가지로, 1/6의 모두 동일한 확률로 6면이 나오는 주사위를 던질 때의 variable에 대한 entropy를 구하시오. 그리고 앞선 [문제 1-1]과의 결과와 비교하시오\n"
   ]
  },
  {
   "cell_type": "markdown",
   "metadata": {},
   "source": [
    "주어진 문제의 주사위는 모든 면이 1/6의 확률을 가지므로 uniform probability distribution입니다. 그러므로 앞선 [문제 1-1]에서 정보량을 계산한 값과 동일하게 결과가 나옵니다."
   ]
  },
  {
   "cell_type": "markdown",
   "metadata": {},
   "source": [
    "**[문제 2-2]**<br/>\n",
    "앞선 [문제 1-1]의 풀이방식을 활용하여 확률이 [0.0, 0.1, 0.2, 0.3, 0.4, 0.5]]로 변화함에 따라 정보량이 어떻게 변화는지를 코드로 작성하고 결과에 대해 서술하시오"
   ]
  },
  {
   "cell_type": "markdown",
   "metadata": {},
   "source": [
    "**[문제 3, 4]**<br/>\n",
    "\n",
    "어떠한 상자에 5가지의 색을 가진 공이 존재합니다. 그리고 상자에 손을 넣어 어떠한 색을 뽑을 두 확률 분포가 존재할 때, KL divergence와 Cross-entropy를 각각 구해보겠습니다. \n",
    "\n",
    "* 상자속 공의 색: red, blue, gleen, yellow, black\n",
    "\n",
    "* 두 확률 분포\n",
    "    * p = [0.05, 0.25, 0.25, 0.05, 0.4]\n",
    "    * q = [0.4, 0.05, 0.1, 0.2, 0.25]\n",
    "    "
   ]
  },
  {
   "cell_type": "markdown",
   "metadata": {},
   "source": [
    "**[문제 3-1]**\n",
    "먼저, 주어진 문제에 대해서 확률분포를 정의하겠습니다. "
   ]
  },
  {
   "cell_type": "markdown",
   "metadata": {},
   "source": [
    "**[문제 3-2]**\n",
    "주어진 확률 분포에 대해서 확률의 특성을 만족하는지에 대해서 확인하겠습니다. "
   ]
  },
  {
   "cell_type": "markdown",
   "metadata": {},
   "source": [
    "**[문제 3-3]** 두 확률 분포의 KL divergence를 구하여보겠습니다. \n"
   ]
  },
  {
   "cell_type": "markdown",
   "metadata": {},
   "source": [
    "**[문제 3-4]** KL divergence의 symmetric에 대해서 확인하겠습니다. "
   ]
  },
  {
   "cell_type": "markdown",
   "metadata": {},
   "source": [
    "**[문제 4-1]** 위에서의 두 확률분포에 대한 Cross-entropy를 구하여보겠습니다. "
   ]
  },
  {
   "cell_type": "markdown",
   "metadata": {},
   "source": [
    "**[문제 4-2]** 위에서의 구한 KL divergence를 활요하여 Cross-entropy를 구하여보겠습니다. "
   ]
  }
 ],
 "metadata": {
  "kernelspec": {
   "display_name": "Python 3",
   "language": "python",
   "name": "python3"
  },
  "language_info": {
   "codemirror_mode": {
    "name": "ipython",
    "version": 3
   },
   "file_extension": ".py",
   "mimetype": "text/x-python",
   "name": "python",
   "nbconvert_exporter": "python",
   "pygments_lexer": "ipython3",
   "version": "3.6.8"
  }
 },
 "nbformat": 4,
 "nbformat_minor": 2
}
