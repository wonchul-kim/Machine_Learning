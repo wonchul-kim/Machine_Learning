{
 "cells": [
  {
   "cell_type": "markdown",
   "metadata": {},
   "source": [
    "# 미니프로젝트 (60분)"
   ]
  },
  {
   "cell_type": "markdown",
   "metadata": {},
   "source": [
    "### Example"
   ]
  },
  {
   "cell_type": "markdown",
   "metadata": {},
   "source": [
    "앞서 배운 내용들을 바탕으로 다음의 문제에 대해서 naive classifier를 설계해보도록 하겠습니다.\n",
    "\n",
    "우리는 주어진 데이터셋에 대한 calssifier를 설계하기에 앞서, 설계하고자 하는 classifier의 성능을 비교할 기준점이 될 naive classifier를 설계하고자 합니다. 이에 대한 데이터셋은 각각 calss 0과 class 1으로 구성되어 있고, 각각은 0과 1로 label이 되어 있습니다. 따라서, classifier는 각각의 class에 알맞는 label을 예측할 수 있는 알고리즘을 설계하는 것입니다. 자세한 데이터셋의 구성은 다음과 같습니다.\n",
    "\n",
    "class 0: 25%\n",
    "class 1: 75%\n",
    "이 데이터셋이 주어질 때, 다음의 문제에 대한 답을 해보시기 바랍니다."
   ]
  },
  {
   "cell_type": "markdown",
   "metadata": {},
   "source": [
    "**[문제 1-1]** Random Guess 예측을 통한 naive classifier의 기대되는 성능은 얼마입니까?"
   ]
  },
  {
   "cell_type": "markdown",
   "metadata": {},
   "source": [
    "$$P(\\hat{y} = y) = P(\\hat{y} = 0) \\times P(y = 0) + P(\\hat{y} = 1) \\times P(y = 1)$$\n",
    "$$ = 0.5 \\times 0.25 + 0.5 \\times 0.75$$\n",
    "$$ = 0.5$$"
   ]
  },
  {
   "cell_type": "markdown",
   "metadata": {},
   "source": [
    "**[문제 1-2]** Random Guess 예측을 통한 naive classifier를 설계하십시오\n"
   ]
  },
  {
   "cell_type": "code",
   "execution_count": 1,
   "metadata": {},
   "outputs": [],
   "source": [
    "import numpy as np\n",
    "from sklearn.metrics import accuracy_score"
   ]
  },
  {
   "cell_type": "code",
   "execution_count": 4,
   "metadata": {},
   "outputs": [],
   "source": [
    "def random_guess():\n",
    "    if np.random.random() < 0.5:\n",
    "        return 0\n",
    "    return 1"
   ]
  },
  {
   "cell_type": "code",
   "execution_count": 5,
   "metadata": {},
   "outputs": [
    {
     "name": "stdout",
     "output_type": "stream",
     "text": [
      "평균 정확도:  0.5023500000000001\n"
     ]
    }
   ],
   "source": [
    "class_0 = [0 for _ in range(25)]\n",
    "class_1 = [1 for _ in range(75)]\n",
    "y = class_0 + class_1\n",
    "\n",
    "res = []\n",
    "for _ in range(1000):\n",
    "    y_hat = [random_guess() for _ in range(len(y))]\n",
    "    acc = accuracy_score(y, y_hat)\n",
    "    res.append(acc)\n",
    "print('평균 정확도: ', np.mean(res))"
   ]
  },
  {
   "cell_type": "markdown",
   "metadata": {},
   "source": [
    "**[문제 2-1]** Randomly Selected Class 예측을 통한 naive classifier의 성능은 얼마입니까?"
   ]
  },
  {
   "cell_type": "markdown",
   "metadata": {},
   "source": [
    "$$P(\\hat{y} = y) = P(\\hat{y} = 0) \\times P(y = 0) + P(\\hat{y} = 1) \\times P(y = 1)$$\n",
    "$$ = 0.25 \\times 0.25 + 0.75 \\times 0.75$$\n",
    "$$ = 0.625$$"
   ]
  },
  {
   "cell_type": "markdown",
   "metadata": {},
   "source": [
    "**[문제 2-2]** Randomly Selected Class 예측을 통한 naive classifier를 설계하십시오."
   ]
  },
  {
   "cell_type": "code",
   "execution_count": 6,
   "metadata": {},
   "outputs": [],
   "source": [
    "import numpy as np\n",
    "from sklearn.metrics import accuracy_score"
   ]
  },
  {
   "cell_type": "code",
   "execution_count": 7,
   "metadata": {},
   "outputs": [],
   "source": [
    "def random_class(y):\n",
    "    return y[np.random.randint(len(y))]"
   ]
  },
  {
   "cell_type": "code",
   "execution_count": 8,
   "metadata": {},
   "outputs": [
    {
     "name": "stdout",
     "output_type": "stream",
     "text": [
      "평균 정확도:  0.6253799999999999\n"
     ]
    }
   ],
   "source": [
    "class_0 = [0 for _ in range(25)]\n",
    "class_1 = [1 for _ in range(75)]\n",
    "y = class_0 + class_1\n",
    "\n",
    "res = []\n",
    "for _ in range(1000):\n",
    "    y_hat = [random_class(y) for _ in range(len(y))]\n",
    "    acc = accuracy_score(y, y_hat)\n",
    "    res.append(acc)\n",
    "print('평균 정확도: ', np.mean(res))"
   ]
  },
  {
   "cell_type": "markdown",
   "metadata": {},
   "source": [
    "**[문제 3-1]** Majority Class 예측을 통한 naive classifier의 성능은 얼마입니까?\n"
   ]
  },
  {
   "cell_type": "markdown",
   "metadata": {},
   "source": [
    "$$P(\\hat{y} = y) = P(\\hat{y} = 0) \\times P(y = 0) + P(\\hat{y} = 1) \\times P(y = 1)$$\n",
    "$$ = 0.0 \\times 0.25 + 1.0 \\times 0.75$$\n",
    "$$ = 0.75$$\n"
   ]
  },
  {
   "cell_type": "markdown",
   "metadata": {},
   "source": [
    "**[문제 3-2]** Majority Class 예측을 통한 naive classifier를 설계하십시오.\n"
   ]
  },
  {
   "cell_type": "code",
   "execution_count": 9,
   "metadata": {},
   "outputs": [],
   "source": [
    "from scipy.stats import mode\n",
    "from sklearn.metrics import accuracy_score"
   ]
  },
  {
   "cell_type": "code",
   "execution_count": 10,
   "metadata": {},
   "outputs": [],
   "source": [
    "def majority_class(y):\n",
    "    return mode(y)[0]"
   ]
  },
  {
   "cell_type": "code",
   "execution_count": 11,
   "metadata": {},
   "outputs": [
    {
     "name": "stdout",
     "output_type": "stream",
     "text": [
      "정확도:  0.75\n"
     ]
    }
   ],
   "source": [
    "class_0 = [0 for _ in range(25)]\n",
    "class_1 = [1 for _ in range(75)]\n",
    "y = class_0 + class_1\n",
    "\n",
    "y_hat = [majority_class(y) for _ in range(len(y))]\n",
    "\n",
    "acc = accuracy_score(y, y_hat)\n",
    "print('정확도: ', acc)"
   ]
  },
  {
   "cell_type": "markdown",
   "metadata": {},
   "source": [
    "**[문제 4]** scikit-learn library를 활용한 classification 프레임워크를 설계하십시오.\n"
   ]
  },
  {
   "cell_type": "code",
   "execution_count": 13,
   "metadata": {},
   "outputs": [],
   "source": [
    "import numpy as np\n",
    "from sklearn.dummy import DummyClassifier\n",
    "from sklearn.metrics import accuracy_score"
   ]
  },
  {
   "cell_type": "code",
   "execution_count": 14,
   "metadata": {},
   "outputs": [],
   "source": [
    "X = np.asarray([0 for _ in range(100)])\n",
    "class_0 = [0 for _ in range(25)]\n",
    "class_1 = [1 for _ in range(75)]\n",
    "y = np.asarray(class_0 + class_1)"
   ]
  },
  {
   "cell_type": "code",
   "execution_count": 15,
   "metadata": {},
   "outputs": [
    {
     "name": "stdout",
     "output_type": "stream",
     "text": [
      "정확도:  0.75\n"
     ]
    }
   ],
   "source": [
    "X = X.reshape((len(X), 1))\n",
    "\n",
    "model = DummyClassifier(strategy= 'most_frequent' )\n",
    "\n",
    "model.fit(X, y)\n",
    "\n",
    "y_hat = model.predict(X)\n",
    "\n",
    "acc = accuracy_score(y, y_hat)\n",
    "print('정확도: ', acc)"
   ]
  },
  {
   "cell_type": "markdown",
   "metadata": {},
   "source": [
    "**[문제 5]** 다음과 같이 `make_blobs` 함수를 통해서 생성되는 데이터셋에 대해서 naive bayes classifier를 설계하여 결과를 도출하십시오."
   ]
  },
  {
   "cell_type": "code",
   "execution_count": 2,
   "metadata": {},
   "outputs": [],
   "source": [
    "from sklearn.datasets import make_blobs\n",
    "import matplotlib.pyplot as plt\n",
    "import numpy as np\n",
    "from scipy.stats import norm"
   ]
  },
  {
   "cell_type": "code",
   "execution_count": 4,
   "metadata": {},
   "outputs": [
    {
     "name": "stdout",
     "output_type": "stream",
     "text": [
      "input 데이터:  (200, 2)\n",
      "output 데이터:  (200,)\n"
     ]
    },
    {
     "data": {
      "image/png": "[encoded data removed]",
      "text/plain": [
       "<Figure size 432x288 with 1 Axes>"
      ]
     },
     "metadata": {
      "needs_background": "light"
     },
     "output_type": "display_data"
    }
   ],
   "source": [
    "X, y = make_blobs(n_samples=200, centers=2, n_features=2, random_state=1)\n",
    "\n",
    "print('input 데이터: ', X.shape)\n",
    "print('output 데이터: ', y.shape)\n",
    "\n",
    "plt.scatter(X[:, 0], X[:, 1], marker='o', c=y, s=100,\n",
    "            edgecolor=\"k\", linewidth=2)\n",
    "plt.xlabel(\"$X_1$\")\n",
    "plt.ylabel(\"$X_2$\")\n",
    "plt.show()"
   ]
  },
  {
   "cell_type": "code",
   "execution_count": 6,
   "metadata": {},
   "outputs": [],
   "source": [
    "def make_distribution(data):\n",
    "    mu = np.mean(data)\n",
    "    sigma = np.std(data)\n",
    "    print(mu, sigma)\n",
    "    \n",
    "    distr = norm(mu, sigma)\n",
    "    \n",
    "    return distr\n",
    "\n",
    "def conditional_prob(X, prior, dist_1, dist_2):\n",
    "    return prior * dist_1.pdf(X[0]) * dist_2.pdf(X[1])"
   ]
  },
  {
   "cell_type": "markdown",
   "metadata": {},
   "source": [
    "위와 같이 bayes theorem을 계산하는데에 있어서 필요한 확률을 구하는 함수를 구현합니다. "
   ]
  },
  {
   "cell_type": "code",
   "execution_count": 8,
   "metadata": {},
   "outputs": [
    {
     "name": "stdout",
     "output_type": "stream",
     "text": [
      "-1.453156696730447 0.8497391581403734\n",
      "4.40756967408747 0.9448501199593555\n",
      "-10.082794464327042 1.0642444414521337\n",
      "-3.895339971286504 1.004435942839403\n",
      "************************************************************\n",
      "P(y=0| [-10.16591134  -4.12752889]) = 2.8022562057219528e-40\n",
      "P(y=1| [-10.16591134  -4.12752889]) = 7.226007445014858\n",
      "Truth: y=  1\n",
      "************************************************************\n"
     ]
    }
   ],
   "source": [
    "# 데이터셋을 각각의 class로 구분해야합니다.\n",
    "X_0 = X[y == 0]\n",
    "X_1 = X[y == 1]\n",
    "\n",
    "# prior probability\n",
    "p_y_0 = len(X_0) / len(X)\n",
    "p_y_1 = len(X_1) / len(X)\n",
    "\n",
    "dist_X_1_y_0 = make_distribution(X_0[:, 0])\n",
    "dist_X_2_y_0 = make_distribution(X_0[:, 1])\n",
    "dist_X_1_y_1 = make_distribution(X_1[:, 0])\n",
    "dist_X_2_y_1 = make_distribution(X_1[:, 1])\n",
    "\n",
    "X_10, y_10 = X[10], y[10]\n",
    "p_y_0 = conditional_prob(X_10, p_y_0, dist_X_1_y_0, dist_X_2_y_0)\n",
    "p_y_1 = conditional_prob(X_10, p_y_1, dist_X_1_y_1, dist_X_2_y_1)\n",
    "print(\"************************************************************\")\n",
    "print('P(y=0| {}) = {}'.format(X_10, p_y_0*100))\n",
    "print('P(y=1| {}) = {}'.format(X_10, p_y_1*100))\n",
    "print('Truth: y= ', y_10)\n",
    "print(\"************************************************************\")"
   ]
  },
  {
   "cell_type": "markdown",
   "metadata": {},
   "source": [
    "### Problem"
   ]
  },
  {
   "cell_type": "markdown",
   "metadata": {},
   "source": [
    "그렇다면, 다음과 같은 데이터셋에 대해서 주어진 문제를 풀어보시기 바랍니다. \n",
    "\n",
    "* class 0: 60%\n",
    "* class 1: 40%"
   ]
  },
  {
   "cell_type": "markdown",
   "metadata": {},
   "source": [
    "**[문제 1-1]** Random Guess 예측을 통한 naive classifier의 기대되는 성능은 얼마입니까?"
   ]
  },
  {
   "cell_type": "markdown",
   "metadata": {},
   "source": [
    "**[문제 1-2]** Random Guess 예측을 통한 naive classifier를 설계하십시오\n"
   ]
  },
  {
   "cell_type": "markdown",
   "metadata": {},
   "source": [
    "**[문제 2-1]** Randomly Selected Class 예측을 통한 naive classifier의 성능은 얼마입니까?"
   ]
  },
  {
   "cell_type": "markdown",
   "metadata": {},
   "source": [
    "**[문제 2-2]** Randomly Selected Class 예측을 통한 naive classifier를 설계하십시오."
   ]
  },
  {
   "cell_type": "markdown",
   "metadata": {},
   "source": [
    "**[문제 3-1]** Majority Class 예측을 통한 naive classifier의 성능은 얼마입니까?\n"
   ]
  },
  {
   "cell_type": "markdown",
   "metadata": {},
   "source": [
    "**[문제 3-2]** Majority Class 예측을 통한 naive classifier를 설계하십시오.\n"
   ]
  },
  {
   "cell_type": "markdown",
   "metadata": {},
   "source": [
    "**[문제 4]** scikit-learn library를 활용한 classification 프레임워크를 설계하십시오.\n"
   ]
  },
  {
   "cell_type": "markdown",
   "metadata": {},
   "source": [
    "**[문제 5]** 다음과 같이 `make_blobs` 함수를 통해서 생성되는 데이터셋에 대해서 naive bayes classifier를 설계하여 결과를 도출하십시오."
   ]
  },
  {
   "cell_type": "code",
   "execution_count": 9,
   "metadata": {},
   "outputs": [],
   "source": [
    "from sklearn.datasets import make_blobs\n",
    "import matplotlib.pyplot as plt\n",
    "import numpy as np\n",
    "from scipy.stats import norm"
   ]
  },
  {
   "cell_type": "code",
   "execution_count": 14,
   "metadata": {},
   "outputs": [
    {
     "name": "stdout",
     "output_type": "stream",
     "text": [
      "input 데이터:  (200, 3)\n",
      "output 데이터:  (200,)\n"
     ]
    },
    {
     "data": {
      "image/png": "[encoded data removed]",
      "text/plain": [
       "<Figure size 432x288 with 1 Axes>"
      ]
     },
     "metadata": {
      "needs_background": "light"
     },
     "output_type": "display_data"
    }
   ],
   "source": [
    "X, y = make_blobs(n_samples=200, centers=3, n_features=3, random_state=1)\n",
    "\n",
    "print('input 데이터: ', X.shape)\n",
    "print('output 데이터: ', y.shape)\n",
    "\n",
    "plt.scatter(X[:, 0], X[:, 1], marker='o', c=y, s=100,\n",
    "            edgecolor=\"k\", linewidth=2)\n",
    "plt.xlabel(\"$X_1$\")\n",
    "plt.ylabel(\"$X_2$\")\n",
    "plt.show()"
   ]
  },
  {
   "cell_type": "code",
   "execution_count": null,
   "metadata": {},
   "outputs": [],
   "source": []
  }
 ],
 "metadata": {
  "kernelspec": {
   "display_name": "Python 3",
   "language": "python",
   "name": "python3"
  },
  "language_info": {
   "codemirror_mode": {
    "name": "ipython",
    "version": 3
   },
   "file_extension": ".py",
   "mimetype": "text/x-python",
   "name": "python",
   "nbconvert_exporter": "python",
   "pygments_lexer": "ipython3",
   "version": "3.6.8"
  }
 },
 "nbformat": 4,
 "nbformat_minor": 2
}
